{
  "cells": [
    {
      "cell_type": "raw",
      "metadata": {},
      "source": [
        "---\n",
        "title: \"Transformers From Scratch\"\n",
        "description: \"In this post I walk through Self-Attention Transformers from scratch with demos at the end for Text Classification & Generation, where the PyTorch-code is wrapped by fast.ai to simplify end-2-end.\"\n",
        "tags: [nlp, machine-learning, deep-learning, workshop]\n",
        "author: Hampus Londögård\n",
        "date: \"2021-02-18\"\n",
        "---"
      ]
    },
    {
      "cell_type": "markdown",
      "metadata": {
        "id": "n1q2406adhSM"
      },
      "source": [
        "# Transformers From Scratch\n",
        "\n",
        "The video from the workshop (in Swedish) can be found on [YouTube](https://youtu.be/bHIU96D8SSQ).\n",
        "\n",
        "Today I'm taking **huge inspiration from Peter Bloem** \n",
        "(Vrije Universiteit Amsterdam) which is a [great blog post](http://peterbloem.nl/blog/transformers) & [video lecture](https://youtu.be/KmAISyVvE1Y?list=PLIXJ-Sacf8u60G1TwcznBmK6rEL3gmZmV). It's **essentially a 80-90 % copy of the blog, with minor modifications and reworked code into TODOs** to make it more like a workshop using the Jupyter format (fitting nicely with Google Colab).  \n",
        "_As demonstrations in the end I integrate PyTorch-code with fast.ai framework._  \n",
        "These demos are done to have a foundation for you to play around with as the models are not deep enough and does not train enough to really show-case the power of Transformers.\n",
        "\n",
        "I want to note that the original blog by Peter Bloems is a work of art and does a better job at visualizing graphics in combination with text.\n",
        "\n",
        "Finally this blog was done to support a 'Competence Night' in Machine Learning that I did @ AFRY.\n",
        "\n",
        "## Transformers explained\n",
        "> Transformers are a very exciting family of machine learning architectures. Many good tutorials exist but in the last few years, transformers have mostly become simpler, so that it is now much more straightforward to explain how modern architectures work. This post (read: Peter Bloems blog) is an attempt to explain directly how modern transformers work, and why, without some of the historical baggage.\n",
        "\n",
        "It's assumed a basic understanding of neural networks and backpropagation, for those that are not sure you can either brush up your knowledge in [this video](https://youtu.be/1NVgspM98W0) and learn how they're used today [here](https://youtu.be/DidHjsp_OV0).\n",
        "\n",
        "Further we'll use PyTorch, with some fast.ai for the demos in appendix, to implement the full self attention & transformer module(s).\n",
        "\n",
        "## Self-attention\n",
        "The fundamental operation of any transformer architecture is the self-attention operation.\n",
        "\n",
        "**Self-attention is a sequence-to-sequence operation**, that is we input a sequence and we have a sequence returned.  \n",
        "Let's say we've got `x1..xn` as input and `y1..yn` as output where each vector is dimensioned `k`.\n",
        "\n",
        "To produce output vector 𝐲i, the self attention operation simply takes a weighted average over all the input vectors\n",
        "\n",
        "$y_i = \\sum_{j=0}^{j=k}{w_{ij}x_j}$\n",
        "\n",
        "Where the weights summed over $j=0..k$ is equal to $1$. $w_{ij}$ is not a parameter but is derived from a function over $x_i$ and $x_j$.  \n",
        "The simplest being the dot-product.\n",
        "\n",
        "$w_{ij}^{'} = x_i^Tx_j$\n",
        "\n",
        "Where $x_i$ is at the same position as $y_i$ and $x_j$ traverses through all k values. For $x_{i+1}$ we get a completely different output!\n",
        "\n",
        "Because the dot product has no bounds we apply softmax to the result, so that the whole sequence sum to $1$.\n",
        "\n",
        "$w_{ij} = \\frac{\\text{exp } w_{ij}^{'}}{\\sum_{j} \\text{exp } w_{ij}^{'}}$\n",
        "\n",
        "And that's really it."
      ]
    },
    {
      "cell_type": "markdown",
      "metadata": {
        "id": "8iq7RSuPDd-3"
      },
      "source": [
        "![attention](https://user-images.githubusercontent.com/7490199/218255581-54624bd8-de0f-4340-a085-d6605b3d5310.png)"
      ]
    },
    {
      "cell_type": "markdown",
      "metadata": {
        "id": "5wyXFZ5mDeaH"
      },
      "source": [
        "> A visual illustration of basic self-attention. Note that the softmax operation over the weights is not illustrated.\n",
        "\n",
        "Obviously we need to apply a few more things to create a Transformer, but we'll get to that."
      ]
    },
    {
      "cell_type": "markdown",
      "metadata": {
        "id": "5mcYBWZv0xtG"
      },
      "source": [
        "## Understanding how it works\n",
        "\n",
        "As shown previously we'll use Movie Recommender system to show _why_ the dot-product works.  \n",
        "Say you created your manually annotated data"
      ]
    },
    {
      "cell_type": "markdown",
      "metadata": {
        "id": "4VY9vSoX3IRF"
      },
      "source": [
        "![image](https://user-images.githubusercontent.com/7490199/218255785-253e9052-3cbc-4fb7-b797-5fbd102432e9.png)"
      ]
    },
    {
      "cell_type": "markdown",
      "metadata": {
        "id": "OFXy_E4j3KQI"
      },
      "source": [
        "As you see, negative + negative = positive, positive + positive = positive.  \n",
        "The magnitude of the score increases the final outcome.\n",
        "\n",
        "So combining these two vectors together will work out real nice!\n",
        "\n",
        "This might not be so practical in reality and as such we make the movie and user features _parameters_ of the model. Then we ask the user for for a small number of movies they like and optimize the features so that their dot product matches the known likes.  \n",
        "Even when not manually giving any features meaningful data is extracted."
      ]
    },
    {
      "cell_type": "markdown",
      "metadata": {
        "id": "rn8Pte674GKk"
      },
      "source": [
        "Even though we don’t tell the model what any of the features should mean, in practice, it turns out that after training the features do actually reflect meaningful semantics about the movie content.\n",
        "\n",
        "![image](https://user-images.githubusercontent.com/7490199/218255808-6dd74148-9dd1-40dd-b158-2b7935ae49a5.png)"
      ]
    },
    {
      "cell_type": "markdown",
      "metadata": {
        "id": "sbq-fVpf4KQY"
      },
      "source": [
        "This is in essence the same as self-attention.\n",
        "\n",
        "Using word embeddings on a sentence as  \n",
        "\n",
        "$v_{the}, v_{cat}, v_{walk}$\n",
        "\n",
        "and feed it into self attention we get the output-vectors y,\n",
        "\n",
        "$y_{the}, y_{cat}, y_{walk}$\n",
        "\n",
        "where y-vectors are the _weighted sum over all embedding vectors in the first sequence_, weighted by their (normalized) dot-product with $v_{cat}$.  \n",
        "E.g. $y_{the}$ = $v_{the} * v_{the} + v_{the} * v_{cat} + v_{the} * v_{walk}$.\n",
        "\n",
        "Because _v_ is learned this will continually be updated to work better. While updating how _v_ is created most likely _walk_ and _cat_ will have a high dot-product as those are correlated.\n",
        "\n",
        "This is the basic intuition. _Please note:_\n",
        "\n",
        "- No parameters (yet) so the upstream mechanism creating the embeddings fully drives the self-attention by learning representations with particular dot-products\n",
        "- Self-attention see the input as a _bag_, i.e. not a continuous input as it is, e.g. it is _permutation equivariant_. "
      ]
    },
    {
      "cell_type": "markdown",
      "metadata": {
        "id": "Y-ULursn8ij5"
      },
      "source": [
        "## In Pytorch: basic self-attention\n",
        "\n",
        "> What I cannot create, I do not understand _- Feynman_\n",
        "\n",
        "The first thing we need to implement is matrix multiplications, which will be done through _torch_ as native python loops are too slow.\n",
        "\n",
        "Input: $t$ vectors, dimension $k$ and $b$ mini-batches (tensor: $b, t, k$)  \n",
        "\n",
        "\n",
        "We’ll represent the input, a sequence of t vectors of dimension k as a t by k matrix 𝐗. Including a minibatch dimension b, gives us an input tensor of size (b,t,k).\n",
        "\n",
        "The set of all raw dot products w′ij forms a matrix, which we can compute simply by multiplying 𝐗 by its transpose:\n",
        "\n",
        "Let's code!"
      ]
    },
    {
      "cell_type": "code",
      "execution_count": null,
      "metadata": {
        "id": "KEp_ZBelNnmD"
      },
      "outputs": [],
      "source": [
        "class TODO(Exception):\n",
        "    \"\"\"Raised when there is something TODO\"\"\"\n",
        "    pass"
      ]
    },
    {
      "cell_type": "code",
      "execution_count": null,
      "metadata": {},
      "outputs": [],
      "source": [
        "import torch\n",
        "import torch.nn.functional as F\n",
        "\n",
        "# assume we have some tensor x with size (b=1, t=3, k=3)\n",
        "x = torch.array([[1.,2.,3.,\n",
        "                 1.,2.,3.,\n",
        "                 1.,2.,3.]])"
      ]
    },
    {
      "cell_type": "code",
      "execution_count": null,
      "metadata": {
        "id": "V9uKaZOHdebB"
      },
      "outputs": [],
      "source": [
        "# batch matrix multiplication\n",
        "raw_weights = raise TODO(\"Use torch batch-matrix-multiply (bmm) to do x*x^T. Remember there's 3 dimensions!\")\n",
        "\n",
        "# Apply row-wise Softmax\n",
        "weights = raise TODO(\"Use functional softmax to apply softmax row-wise (along which dim?)\")\n",
        "\n",
        "# creating y\n",
        "y = torch.bmm(weights, x)"
      ]
    },
    {
      "cell_type": "markdown",
      "metadata": {
        "id": "NVFu1y46OWjx"
      },
      "source": [
        "And that's it. We have created basic self-attention which is the basis of Transformers (state-of-the-art)."
      ]
    },
    {
      "cell_type": "markdown",
      "metadata": {
        "id": "mRpZs9suOg1y"
      },
      "source": [
        "## Additional Tricks\n",
        "\n",
        "To implement Transformers fully we need to add a few tricks.\n",
        "\n",
        "### 1) Queries, keys & values\n",
        "\n",
        "Each input-vector $x_i$ is used 3 times\n",
        "\n",
        "1. Creating its own weight for $y_i$\n",
        "2. Creating others weight for $y$ ($y_j$)\n",
        "3. Used as a part of the weighted sum for each output $y$\n",
        "\n",
        "This is often called the **query**, the **key**, and the **value** (explained later).  \n",
        "We update the network to instead use _three weight-matrices_, one for each task, making it more controllable. Adding $W_k, W_q, W_v$ of size $k*k$, we've got\n",
        "\n",
        "$q_i = W_qx_i, k_i = W_kx_i, v_i = W_vx_i$  \n",
        "$w_{ij}^{'} = q_i^Tk_j$\n",
        "$w_ {ij} = softmax(w_{ij}^{'})$  \n",
        "$y_i = \\sum_j w_{ij}v_j$\n",
        "\n",
        "We've now given the Self Attention some controllable parameters & allows modification to the input vector to fit the task at hands."
      ]
    },
    {
      "cell_type": "markdown",
      "metadata": {
        "id": "Gag-gz7fSb-z"
      },
      "source": [
        "![image](https://user-images.githubusercontent.com/7490199/218255869-749bfc2e-df1f-498d-8261-47b2d3230e35.png)"
      ]
    },
    {
      "cell_type": "markdown",
      "metadata": {
        "id": "qnU9d0EGScvZ"
      },
      "source": [
        "> Illustration of the self-attention with key (red), query (query) and value (green) transformations. Remember old image and compare!"
      ]
    },
    {
      "cell_type": "markdown",
      "metadata": {
        "id": "QduyplPcSoqj"
      },
      "source": [
        "### 2) Scaling the Dot Product\n",
        "\n",
        "Softmax can be _very sensitive to large values_, exploding gradient or making it slow to learn.  \n",
        "I don't recall where but ~ 8 years ago someone figured out that scaling the value by $\\frac{1}{\\sqrt{k}}$ where $k$ is the embedding dimension.\n",
        "\n",
        "$w_{ij}^{'} = \\frac{q_i^Tk_j}{\\sqrt{k}}$\n",
        "\n",
        "_Why $\\sqrt{k}$? Imagine a vector in $ℝk$ with values all $c$. Its Euclidean length is $\\sqrt{k}c$. Therefore, we are dividing out the amount by which the increase in dimension increases the length of the average vectors._"
      ]
    },
    {
      "cell_type": "markdown",
      "metadata": {
        "id": "H7z7H7LkTtX1"
      },
      "source": [
        "### 3) Multi-head Attention\n",
        "The final improvement is to allow word to have different meanings with different neighbours (basically what _ngram_ achieves).\n",
        "\n",
        "By adding multiple, indexed _r_, self attention mechanisms with different matrices, $W_q^r$ etc. These are called _attention heads_.\n",
        "\n",
        "For input $x_i$ each attention head produces a different output vector $y_i^r$. We concatenate these, and pass them through a linear transformation to reduce the dimension back to $k$. **Remember what is a linear transformation?**\n",
        "\n",
        "**Narrow and wide self-attention**. \n",
        "There's two ways to apply _Multi-Head Self-Attention_.  \n",
        "1. (_narrow_) Cut embedding vector into chunks\n",
        "    - 8 heads & $k=256$ --> 8 chunks of size 32\n",
        "    - Each chunk gets Q, K, V matrices ($W_q^r$,...) ($32\\times32$)\n",
        "2.  (_wide_) Make matrices $256\\times256$ and apply each head to the whole 256-vector\n",
        "    - First (_narrow_) = faster & less memory\n",
        "    - Second (_wider_) = better result\n",
        "\n",
        "Only second (_wider_) variant described."
      ]
    },
    {
      "cell_type": "markdown",
      "metadata": {
        "id": "8FN7n6gMAyTf"
      },
      "source": [
        "## In Pytorch: complete self-attention\n",
        "\n",
        "Let's make the implementation with bells & whistles."
      ]
    },
    {
      "cell_type": "code",
      "execution_count": null,
      "metadata": {
        "id": "Hm1KlZpWP0zT"
      },
      "outputs": [],
      "source": [
        "import torch\n",
        "from torch import nn\n",
        "import torch.nn.functional as F\n",
        "\n",
        "class SelfAttention():\n",
        "  def __init__(self, k, heads=8):\n",
        "    raise TODO(\"Make SelfAttention a torch module (nn.Module)\")\n",
        "    super().__init__()\n",
        "    self.k, self.heads = k, heads"
      ]
    },
    {
      "cell_type": "markdown",
      "metadata": {
        "id": "H3Qh497rBOVt"
      },
      "source": [
        "![image](https://user-images.githubusercontent.com/7490199/218257812-fe88920f-e431-441a-8bda-047279aa3c60.png)\n",
        "\n",
        "> Combining three attention heads into one matrix multiplication (for the queries)."
      ]
    },
    {
      "cell_type": "markdown",
      "metadata": {
        "id": "0eROI6xHBO8k"
      },
      "source": [
        "_h_ attention-heads considered as _h_ separate sets of $W_q^r,W_k^r,W_v^r$, but as shown in image above **a more efficient approach is possible**.\n",
        "\n",
        "Combine all heads into three single $k\\times hk$ matrices.  \n",
        "This means that we can compute the concatenated _queries_, _keys_ & _values_ in a single matrix multiplication."
      ]
    },
    {
      "cell_type": "code",
      "execution_count": null,
      "metadata": {
        "id": "jcWdeLydCU9q"
      },
      "outputs": [],
      "source": [
        "class SelfAttention(nn.Module):\n",
        "  def __init__(self, k, heads=8):\n",
        "    super().__init__()\n",
        "    self.k, self.heads = k, heads\n",
        "\n",
        "    # These compute the queries, keys and values for all \n",
        "    # heads (as a single concatenated vector)\n",
        "    self.tokeys    = raise TODO(\"Create a linear layer of k * hk size, no bias\")\n",
        "    self.toqueries = raise TODO(\"Create a linear layer of k * hk size, no bias\")\n",
        "  \tself.tovalues  = raise TODO(\"Create a linear layer of k * hk size, no bias\")\n",
        "\n",
        "\t  # This unifies the outputs of the different heads into a single k-vector\n",
        "\t  self.unifyheads = raise TODO(\"Create a linear layer of k * hk size, WITH bias\")"
      ]
    },
    {
      "cell_type": "markdown",
      "metadata": {
        "id": "zu-wUlLoCh0h"
      },
      "source": [
        "From here we can implement the computation of the self-attention (`forward` function). Where we first calculate _queries, keys & values_."
      ]
    },
    {
      "cell_type": "code",
      "execution_count": null,
      "metadata": {
        "id": "CH_AJMjHCp9z"
      },
      "outputs": [],
      "source": [
        "class SelfAttention(nn.Module):\n",
        "  def __init__(self, k, heads=8):\n",
        "    super().__init__()\n",
        "    self.k, self.heads = k, heads\n",
        "\n",
        "    # These compute the queries, keys and values for all \n",
        "    # heads (as a single concatenated vector)\n",
        "    self.tokeys    = nn.Linear(k, k * heads, bias=False)\n",
        "    self.toqueries = nn.Linear(k, k * heads, bias=False)\n",
        "  \tself.tovalues  = nn.Linear(k, k * heads, bias=False)\n",
        "\n",
        "\t  # This unifies the outputs of the different heads into \n",
        "\t  # a single k-vector\n",
        "\t  self.unifyheads = nn.Linear(heads * k, k)\n",
        "\n",
        "  def forward(self, x):\n",
        "    b, t, k = x.size()\n",
        "    h = self.heads\n",
        "\n",
        "    queries = raise TODO(\"Create queries and then reshape into h separate matrices, using `view`\")\n",
        "    keys    = raise TODO(\"Create keys and then reshape into h separate matrices, using `view`\")\n",
        "    values  = raise TODO(\"Create values and then reshape into h separate matrices, using `view`\")"
      ]
    },
    {
      "cell_type": "markdown",
      "metadata": {
        "id": "pu9oFzDiEjrL"
      },
      "source": [
        "Having reshaped _queries_ etc from $(b,t, h*k)$ into $(b,t,h,k)$ each head has its own dimension.\n",
        "\n",
        "The step now is to _compute dot-product for each head_.  \n",
        "We can batch this if we reshape the matrices into something that's possible to batch (transposing; as head/batch is not next to each-other). **costly**"
      ]
    },
    {
      "cell_type": "code",
      "execution_count": null,
      "metadata": {
        "id": "12tzGTyaItJE"
      },
      "outputs": [],
      "source": [
        "class SelfAttention(nn.Module):\n",
        "  def __init__(self, k, heads=8):\n",
        "    super().__init__()\n",
        "    self.k, self.heads = k, heads\n",
        "\n",
        "    # These compute the queries, keys and values for all \n",
        "    # heads (as a single concatenated vector)\n",
        "    self.tokeys    = nn.Linear(k, k * heads, bias=False)\n",
        "    self.toqueries = nn.Linear(k, k * heads, bias=False)\n",
        "  \tself.tovalues  = nn.Linear(k, k * heads, bias=False)\n",
        "\n",
        "\t  # This unifies the outputs of the different heads into \n",
        "\t  # a single k-vector\n",
        "\t  self.unifyheads = nn.Linear(heads * k, k)\n",
        "\n",
        "  def forward(self, x):\n",
        "    b, t, k = x.size()\n",
        "    h = self.heads\n",
        "\n",
        "    queries = self.toqueries(x).view(b, t, h, k)\n",
        "    keys    = self.tokeys(x)   .view(b, t, h, k)\n",
        "    values  = self.tovalues(x) .view(b, t, h, k)\n",
        "\n",
        "    # - fold heads into the batch dimension ... contiguous = reshapes matrix in memory\n",
        "    keys = keys.transpose(1, 2).contiguous().view(b * h, t, k)\n",
        "    queries = queries.transpose(1, 2).contiguous().view(b * h, t, k)\n",
        "    values = values.transpose(1, 2).contiguous().view(b * h, t, k)\n",
        "\n",
        "    queries = raise TODO(\"Scale queries by k^(1/4)\")\n",
        "    keys    = raise TODO(\"Scale keys by k^(1/4)\")\n",
        "\n",
        "    # - get dot product of queries and keys, and scale\n",
        "    dot = torch.bmm(queries, keys.transpose(1, 2))\n",
        "    # - dot has size (b*h, t, k) containing raw weights\n",
        "\n",
        "    dot = raise TODO(\"Normalize row-wise using F.softmax\")\n",
        "    # - dot now contains row-wise normalized weights\n",
        "\n",
        "    # apply the self attention to the values\n",
        "    out = torch.bmm(dot, values).view(b, h, t, k)\n",
        "\n",
        "    # swap h, t back, unify heads\n",
        "    out = out.transpose(1, 2).contiguous().view(b, t, h * k)\n",
        "    return raise TODO(\"Unify the heads into the classes again using unifyheads\")"
      ]
    },
    {
      "cell_type": "markdown",
      "metadata": {
        "id": "3EC88mlBJZl3"
      },
      "source": [
        "And there you have it: multi-head, scaled dot-product self attention."
      ]
    },
    {
      "cell_type": "markdown",
      "metadata": {
        "id": "Q6DFfoW4JbHG"
      },
      "source": [
        "## Building Transformers\n",
        "A transformer is not just a self-attention layer, it is an architecture.\n",
        "\n",
        "> Any architecture designed to process a connected set of units—such as the tokens in a sequence or the pixels in an image—where the only interaction between units is through self-attention.\n",
        "\n",
        "Like most mechanism, e.g. convolutions, a standard approach as emerged. The first step is to wrap the self-attention into a block that we can repeat.\n",
        "\n",
        "### The transformer block\n",
        "There are some variations on how to build a basic transformer block, but most of them are structured roughly like this:"
      ]
    },
    {
      "cell_type": "markdown",
      "metadata": {
        "id": "NycZ4vmSc8PK"
      },
      "source": [
        "![image](https://user-images.githubusercontent.com/7490199/218257941-ac36177e-e00e-4544-9b69-0fc8f11b7b62.png)"
      ]
    },
    {
      "cell_type": "markdown",
      "metadata": {
        "id": "dET6DHiWc9js"
      },
      "source": [
        "- MultiLayer Perceptron = MLP = Basic Feed-forward Neural Network\n",
        "- Blue lines = Residual Connection (allow the gradient to flow through the network on a kind of \"highway\", making the training faster and reducing \"blown up gradients\")"
      ]
    },
    {
      "cell_type": "code",
      "execution_count": null,
      "metadata": {
        "id": "h8VMhFfyAQPD"
      },
      "outputs": [],
      "source": [
        "class TransformerBlock(nn.Module):\n",
        "  def __init__(self, k, heads):\n",
        "    super().__init__()\n",
        "\n",
        "    self.attention = raise TODO(\"make a SelfAttention\")\n",
        "\n",
        "    self.norm1 = raise TODO(\"make a nn.LayerNorm of size k\")\n",
        "    self.norm2 = raise TODO(\"make a nn.LayerNorm of size k\")\n",
        "\n",
        "    # k * 4 is arbitrary, but needs to be larger than input/output layer (k)\n",
        "    self.ff = raise TODO(\"create a MLP: Sequential(Linear(k, 4*k), ReLU, Linear(4*k, k))\")\n",
        "\n",
        "  def forward(self, x):\n",
        "    attended = raise TODO(\"call your created attention on x\")\n",
        "    x = raise TODO(\"Use the first normalizer to normalizer attented+x\")\n",
        "    \n",
        "    fedforward = raise TODO(\"Call feedforward (ff) on new x\")\n",
        "    return raise TODO(\"Finally normalize with 2nd on the addition of feedforward & x\")"
      ]
    },
    {
      "cell_type": "markdown",
      "metadata": {
        "id": "8yK_bSmQEukx"
      },
      "source": [
        "And that is really it! We have now built a Transformer Block & Self Attention. \n",
        "\n",
        "Now we want to use it :)\n",
        "\n",
        "## Classification transformer\n",
        "\n",
        "The simplest classification task is a _Sequence Classifier_.  \n",
        "The IMDB Review dataset is a great contender to try things out with, where each review is `positive` or `negative`.\n",
        "\n",
        "Essentially we'll create a chain of Transformers Block and input our embedded vectors of words, and in the end transforming the output into a single value (true/false).\n",
        "\n",
        "### Output: producing a classifier\n",
        "\n",
        "Most common way: _Global Average Pooling_ on final output sequence and map result to a _softmaxed class vector_.\n"
      ]
    },
    {
      "cell_type": "markdown",
      "metadata": {
        "id": "KONJt51LF1hi"
      },
      "source": [
        "![image](https://user-images.githubusercontent.com/7490199/218257961-1d764937-0dbe-4a25-8568-dc1d8a39dd31.png)"
      ]
    },
    {
      "cell_type": "markdown",
      "metadata": {
        "id": "bhntnhw2F176"
      },
      "source": [
        ">Overview of a simple sequence classification transformer. The output sequence is averaged to produce a single vector representing the whole sequence. This vector is projected down to a vector with one element per class and softmaxed to produce probabilities.\n",
        "\n",
        "### Input: Using Positions (think: ngram)\n",
        "We've already discussed that the current model uses embedding layer but has no sense of sequence time slotting (~ ngram).  \n",
        "We want our State-of-the-Art model to have a sense of order so we need to fix it.\n",
        "\n",
        "Add a second vector of the same length as word embedding, that represent the position of the sentence+word, and add it to the word embedding. There's two ways to do this.\n",
        "\n",
        "1. **Position Embedding** We simply embed the positions like we did the words.\n",
        "    - Easy to implement\n",
        "    - Works pretty good\n",
        "    - Drawback is that we have to see sequences of every length during training, otherwise the position is not trained!\n",
        "2. **Position Encoding** Position encodings work in the same way as embeddings, except that we don't learn the position vectors, we just choose some function $f:ℕ→ℝk$ to map the positions to real valued vectors, and let the network figure out how to interpret these encodings. \n",
        "    - E.g. sin/cos\n",
        "    - Works with longer sequences than seen (might not work well, but it works!)\n",
        "    - Drawback: choice of encoding function is a complicated hyperparameter, and more complicated implementation.\n",
        "\n",
        "For this tutorial the **Position Embedding** is used.\n",
        "\n",
        "### PyTorch\n",
        "\n",
        "Let's implement this!"
      ]
    },
    {
      "cell_type": "code",
      "execution_count": null,
      "metadata": {
        "id": "GkltRXzHEzyD"
      },
      "outputs": [],
      "source": [
        "class Transformer(nn.Module):\n",
        "    def __init__(self, k, heads, depth, seq_length, num_tokens, num_classes):\n",
        "        super().__init__()\n",
        "\n",
        "        self.num_tokens = num_tokens\n",
        "        self.token_emb = raise TODO(\"Create a Embedding layer (nn.X) with num_tokens & k\")\n",
        "        self.pos_emb = raise TODO(\"Create Embedding Layer with seq_length & k\")\n",
        "\n",
        "        # The sequence of transformer blocks that does all the \n",
        "        # heavy lifting\n",
        "        blocks = []\n",
        "        for i in range(depth):\n",
        "            raise TODO(\"Append a TransformerBlock we recently created for each loop; and why not use list-comprehension?\")\n",
        "        self.t_blocks = raise TODO(\"Now make them a Sequential layer (*list = spread)\")\n",
        "\n",
        "\t\t    # Maps the final output sequence to class logits\n",
        "        self.to_probs = raise TODO(\"To get class logits we simply use a Linear layer of k * num_classes\")\n",
        "\n",
        "    def forward(self, x):\n",
        "        \"\"\"\n",
        "        :param x: A (b, t) tensor of integer values representing \n",
        "                  words (in some predetermined vocabulary).\n",
        "        :return: A (b, c) tensor of log-probabilities over the \n",
        "                 classes (where c is the nr. of classes).\n",
        "        \"\"\"\n",
        "\t\t    # generate token embeddings\n",
        "        tokens = raise TODO(\"Embedd the tokens\")\n",
        "        b, t, k = tokens.size()\n",
        "\n",
        "\t\t    # generate position embeddings\n",
        "\t\t    positions = torch.arange(t)\n",
        "        positions = self.pos_emb(positions)[None, :, :].expand(b, t, k)\n",
        "        \n",
        "        x = tokens + positions\n",
        "        x = raise TODO(\"Run the network through the tranformer blocks\")\n",
        "        \n",
        "        # Average-pool over the t dimension and project to class \n",
        "        # probabilities\n",
        "        x = raise TODO(\"Use the probability function, but first take the mean over dim=1 to average\")\n",
        "        return raise TODO(\"Use the F.log_softmax on dim=1 to normalize output!\")"
      ]
    },
    {
      "cell_type": "markdown",
      "metadata": {
        "id": "4U4We-wdPpx6"
      },
      "source": [
        "At depth 6, with a maximum sequence length of 512, this transformer achieves an accuracy of about 85%, competitive with results from RNN models, and much faster to train. To see the real near-human performance of transformers, we’d need to train a much deeper model on much more data. More about how to do that later."
      ]
    },
    {
      "cell_type": "markdown",
      "metadata": {
        "id": "5IjkKlR7PvO0"
      },
      "source": [
        "## Text generation transformer\n",
        "Let's move on!\n",
        "\n",
        "In Text Generation we are not allowed to know the future during training, how else are we going to predict it? This means that we need to use an **autoregressive model**. \n",
        "\n",
        "For Text Generation we'll train a character-to-character prediction, the input is a sequence of characters and output is the input shifted one charafter to the left."
      ]
    },
    {
      "cell_type": "markdown",
      "metadata": {
        "id": "UF-sPdPCWnx5"
      },
      "source": [
        "![image](https://user-images.githubusercontent.com/7490199/218257974-9275a97a-62c2-4439-a25d-136d77a24b4c.png)"
      ]
    },
    {
      "cell_type": "markdown",
      "metadata": {
        "id": "dUNnX4-YWqM_"
      },
      "source": [
        "For the usual RNN this is all that is needed, but as mentioned now we need to make our model _autoregressive_, meaning that it can't look ahead.  \n",
        "This is done by applying a mask which disables all elements that are ahead of current index, as in image below."
      ]
    },
    {
      "cell_type": "markdown",
      "metadata": {
        "id": "bxduiHVJYLT8"
      },
      "source": [
        "![image](https://user-images.githubusercontent.com/7490199/218257983-fe48a555-4e81-4745-ab16-529980518eaf.png)"
      ]
    },
    {
      "cell_type": "markdown",
      "metadata": {
        "id": "aPiWbyn2YOEU"
      },
      "source": [
        "> Masking the self attention, to ensure that elements can only attend to input elements that precede them in the sequence. Note that the multiplication symbol is slightly misleading: we actually set the masked out elements (the white squares) to −∞\n",
        "\n",
        "## In PyTorch\n",
        "Implementing this in PyTorch"
      ]
    },
    {
      "cell_type": "code",
      "execution_count": null,
      "metadata": {
        "id": "krycTBj5YvAB"
      },
      "outputs": [],
      "source": [
        "class SelfAttentionAutoRegressive(nn.Module):\n",
        "  def __init__(self, k, heads=8):\n",
        "    super().__init__()\n",
        "    self.k, self.heads = k, heads\n",
        "\n",
        "    # These compute the queries, keys and values for all \n",
        "    # heads (as a single concatenated vector)\n",
        "    self.tokeys    = nn.Linear(k, k * heads, bias=False)\n",
        "    self.toqueries = nn.Linear(k, k * heads, bias=False)\n",
        "  \tself.tovalues  = nn.Linear(k, k * heads, bias=False)\n",
        "\n",
        "\t  # This unifies the outputs of the different heads into \n",
        "\t  # a single k-vector\n",
        "\t  self.unifyheads = nn.Linear(heads * k, k)\n",
        "\n",
        "  def forward(self, x):\n",
        "    b, t, k = x.size()\n",
        "    h = self.heads\n",
        "\n",
        "    queries = self.toqueries(x).view(b, t, h, k)\n",
        "    keys    = self.tokeys(x)   .view(b, t, h, k)\n",
        "    values  = self.tovalues(x) .view(b, t, h, k)\n",
        "\n",
        "    # - fold heads into the batch dimension ... contiguous = reshapes matrix in memory\n",
        "    keys = keys.transpose(1, 2).contiguous().view(b * h, t, k)\n",
        "    queries = queries.transpose(1, 2).contiguous().view(b * h, t, k)\n",
        "    values = values.transpose(1, 2).contiguous().view(b * h, t, k)\n",
        "\n",
        "    queries = queries / (k ** (1/4))\n",
        "    keys    = keys / (k ** (1/4))\n",
        "\n",
        "    # - get dot product of queries and keys, and scale\n",
        "    dot = torch.bmm(queries, keys.transpose(1, 2))\n",
        "\n",
        "    # === START OF CHANGES ===\n",
        "    indices = torch.triu_indices(t, t, offset=1)\n",
        "    dot[:, indices[0], indices[1]] = raise TODO(\"-inf; and think off what we are doing. triu_indices is shown below\")\n",
        "    # === END OF CHANGES ===\n",
        "\n",
        "    # - dot has size (b*h, t, t) containing raw weights\n",
        "\n",
        "    dot = F.softmax(dot, dim=2) \n",
        "    # - dot now contains row-wise normalized weights\n",
        "\n",
        "    # apply the self attention to the values\n",
        "    out = torch.bmm(dot, values).view(b, h, t, k)\n",
        "\n",
        "    # swap h, t back, unify heads\n",
        "    out = out.transpose(1, 2).contiguous().view(b, t, h * k)\n",
        "    return self.unifyheads(out)"
      ]
    },
    {
      "cell_type": "code",
      "execution_count": null,
      "metadata": {
        "id": "CGDtvr0bU0Z_"
      },
      "outputs": [],
      "source": [
        "??torch.triu_indices"
      ]
    },
    {
      "cell_type": "markdown",
      "metadata": {
        "id": "DqE5KmM3ZVWW"
      },
      "source": [
        "Once the model has been 'handicapped' as this we're ready to go!\n",
        "\n"
      ]
    },
    {
      "cell_type": "markdown",
      "metadata": {
        "id": "7SgwqezLahyy"
      },
      "source": [
        "If you'd like to learn the historical aspect of Transformers, some design consideration & more details please visit the [original blog](http://peterbloem.nl/blog/transformers) by Peter Bloem and finish that one!\n",
        "\n",
        "I hope you found this helpful!  \n",
        "**Please take a good look in Appendix for demos with Text Classification & Text Generation.**  \n",
        "Do note that the depth should probably be increased as should the amount of data. Transformers improve a lot with time, depth & data (especially data!). \n",
        "\n",
        "Thanks  \n",
        "~Hampus"
      ]
    },
    {
      "cell_type": "markdown",
      "metadata": {
        "id": "pllwiGebTCsq"
      },
      "source": [
        "# Appendix: Demos (Text Classification & Text Generation)\n",
        "This appendix includes one demo of each type where I've integrated the PyTorch with fast.ai to smoothen the process from model to actually using it.\n",
        "\n",
        "\n",
        "**DISCLAIMER:**  \n",
        "- We should train on more data for a longer while to really showcase their prowess\n",
        "- Use the full IMDB data to at least get a little better performance\n",
        "- The demos are more wrapped code for you to play around with\n",
        "\n",
        "With that in mind, please play around with this. Tweak parameters, add your own data and have fun!"
      ]
    },
    {
      "cell_type": "markdown",
      "metadata": {
        "id": "UfOom5uWDGoy"
      },
      "source": [
        "## Dependencies\n",
        "Simply run this block to \n",
        "- Upgrade fastai (2.0+)\n",
        "- Import fastai"
      ]
    },
    {
      "cell_type": "code",
      "execution_count": null,
      "metadata": {
        "id": "bgEMkJc9TB4T"
      },
      "outputs": [],
      "source": [
        "%%capture\n",
        "!pip install -U fastai\n",
        "\n",
        "from fastai.text.all import *\n",
        "from functools import partial # Can use partial to preload a transformer block"
      ]
    },
    {
      "cell_type": "markdown",
      "metadata": {
        "id": "AsSSgssxgZNk"
      },
      "source": [
        "## Text Classification\n",
        "\n",
        "The Text Classification is done on the IMDB challenge. There's code included for both IMDB_SAMPLE and IMDB where the sample is a little too small to actually get good stats on.\n",
        "\n",
        "I think adding some more depth (perhaps 6 blocks?) will increase the accuracy even further."
      ]
    },
    {
      "cell_type": "markdown",
      "metadata": {
        "id": "IQGuOPCrkBjG"
      },
      "source": [
        "### Model (Classifier)\n",
        "Code we already wrote for the classifier"
      ]
    },
    {
      "cell_type": "code",
      "execution_count": null,
      "metadata": {
        "id": "sRtIfeqagc3t"
      },
      "outputs": [],
      "source": [
        "class SelfAttention(Module):\n",
        "  def __init__(self, k, heads=8):\n",
        "    self.k, self.heads = k, heads\n",
        "\n",
        "    # These compute the queries, keys and values for all \n",
        "    # heads (as a single concatenated vector)\n",
        "    self.tokeys    = nn.Linear(k, k * heads, bias=False)\n",
        "    self.toqueries = nn.Linear(k, k * heads, bias=False)\n",
        "    self.tovalues  = nn.Linear(k, k * heads, bias=False)\n",
        "\n",
        "    # This unifies the outputs of the different heads into \n",
        "    # a single k-vector\n",
        "    self.unifyheads = nn.Linear(heads * k, k)\n",
        "\n",
        "  def forward(self, x):\n",
        "    b, t, k = x.size()\n",
        "    h = self.heads\n",
        "    \n",
        "    assert self.k == k, f'Input embedding dim ({e}) should match layer embedding dim ({self.emb})'\n",
        "\n",
        "    queries = self.toqueries(x).view(b, t, h, k)\n",
        "    keys    = self.tokeys(x)   .view(b, t, h, k)\n",
        "    values  = self.tovalues(x) .view(b, t, h, k)\n",
        "\n",
        "    # - fold heads into the batch dimension ... contiguous = reshapes matrix in memory\n",
        "    keys = keys.transpose(1, 2).contiguous().view(b * h, t, k)\n",
        "    queries = queries.transpose(1, 2).contiguous().view(b * h, t, k)\n",
        "    values = values.transpose(1, 2).contiguous().view(b * h, t, k)\n",
        "\n",
        "    queries = queries / (k ** (1/4))\n",
        "    keys    = keys / (k ** (1/4))\n",
        "\n",
        "    # - get dot product of queries and keys, and scale\n",
        "    dot = torch.bmm(queries, keys.transpose(1, 2))\n",
        "\n",
        "    assert dot.size() == (b*h, t, t)\n",
        "\n",
        "    # - dot has size (b*h, t, t) containing raw weights\n",
        "    dot = F.softmax(dot, dim=2) \n",
        "    # - dot now contains row-wise normalized weights\n",
        "\n",
        "    # apply the self attention to the values\n",
        "    out = torch.bmm(dot, values).view(b, h, t, k)\n",
        "\n",
        "    # swap h, t back, unify heads\n",
        "    out = out.transpose(1, 2).contiguous().view(b, t, h * k)\n",
        "    \n",
        "    return self.unifyheads(out)"
      ]
    },
    {
      "cell_type": "code",
      "execution_count": null,
      "metadata": {
        "id": "7gmkBl0vgrTc"
      },
      "outputs": [],
      "source": [
        "class TransformerBlock(Module):\n",
        "  def __init__(self, k, heads):\n",
        "    super().__init__()\n",
        "\n",
        "    self.attention = SelfAttention(k, heads=heads)\n",
        "\n",
        "    self.norm1 = nn.LayerNorm(k)\n",
        "    self.norm2 = nn.LayerNorm(k)\n",
        "\n",
        "    self.ff = nn.Sequential(\n",
        "      nn.Linear(k, 4 * k),\n",
        "      nn.ReLU(),\n",
        "      nn.Linear(4 * k, k)\n",
        "    )\n",
        "\n",
        "  def forward(self, x):\n",
        "    attended = self.attention(x)\n",
        "    x = self.norm1(attended + x)\n",
        "    \n",
        "    fedforward = self.ff(x)\n",
        "    return self.norm2(fedforward + x)"
      ]
    },
    {
      "cell_type": "code",
      "execution_count": null,
      "metadata": {
        "id": "hkz7kM8Pg8Ly"
      },
      "outputs": [],
      "source": [
        "class Transformer(Module):\n",
        "    def __init__(self, k, heads, depth, seq_length, num_tokens, num_classes, device):\n",
        "        super().__init__()\n",
        "\n",
        "        self.device = device\n",
        "        self.seq_length = seq_length\n",
        "        self.num_tokens = num_tokens\n",
        "        self.token_emb = nn.Embedding(num_tokens, k)\n",
        "        self.pos_emb = nn.Embedding(seq_length, k)\n",
        "\n",
        "\t\t    # The sequence of transformer blocks that does all the \n",
        "        # heavy lifting\n",
        "        tblocks = [TransformerBlock(k=k, heads=heads) for x in range(depth)]\n",
        "        self.tblocks = nn.Sequential(*tblocks)\n",
        "\n",
        "\t\t    # Maps the final output sequence to class logits\n",
        "        self.toprobs = nn.Linear(k, num_classes)\n",
        "\n",
        "    def forward(self, x):\n",
        "        \"\"\"\n",
        "        :param x: A (b, t) tensor of integer values representing \n",
        "                  words (in some predetermined vocabulary).\n",
        "        :return: A (b, c) tensor of log-probabilities over the \n",
        "                 classes (where c is the nr. of classes).\n",
        "        \"\"\"\n",
        "\t\t    # generate token embeddings\n",
        "        # x = x.split(' ')\n",
        "        x = x[:,:self.seq_length,]\n",
        "        \n",
        "        tokens = self.token_emb(x)\n",
        "        b, t, k = tokens.size()\n",
        "        # print(b, t, k)\n",
        "\n",
        "        # generate position embeddings\n",
        "        positions = torch.arange(t, device=self.device)\n",
        "        positions = self.pos_emb(positions)[None, :, :].expand(b, t, k)\n",
        "        \n",
        "        x = tokens + positions\n",
        "        x = self.tblocks(x)\n",
        "        \n",
        "        # Average-pool over the t dimension and project to class \n",
        "        # probabilities\n",
        "        x = self.toprobs(x.mean(dim=1))\n",
        "        return F.log_softmax(x, dim=1)"
      ]
    },
    {
      "cell_type": "markdown",
      "metadata": {
        "id": "1pWhntaKkF9S"
      },
      "source": [
        "### The Text Classification\n",
        "- Data Collection\n",
        "- Training Loop\n",
        "- Validation"
      ]
    },
    {
      "cell_type": "code",
      "execution_count": null,
      "metadata": {
        "colab": {
          "base_uri": "https://localhost:8080/",
          "height": 54
        },
        "id": "0H3ntl8lhthV",
        "outputId": "fb790634-bd4a-40c6-d1b1-82d825a43a36"
      },
      "outputs": [
        {
          "data": {
            "text/html": [],
            "text/plain": [
              "<IPython.core.display.HTML object>"
            ]
          },
          "metadata": {
            "tags": []
          },
          "output_type": "display_data"
        },
        {
          "data": {
            "text/plain": [
              "(#7) [Path('/root/.fastai/data/imdb/README'),Path('/root/.fastai/data/imdb/unsup'),Path('/root/.fastai/data/imdb/train'),Path('/root/.fastai/data/imdb/test'),Path('/root/.fastai/data/imdb/tmp_lm'),Path('/root/.fastai/data/imdb/tmp_clas'),Path('/root/.fastai/data/imdb/imdb.vocab')]"
            ]
          },
          "execution_count": 14,
          "metadata": {
            "tags": []
          },
          "output_type": "execute_result"
        }
      ],
      "source": [
        "path = untar_data(URLs.IMDB)\n",
        "path.ls()"
      ]
    },
    {
      "cell_type": "code",
      "execution_count": null,
      "metadata": {
        "colab": {
          "base_uri": "https://localhost:8080/",
          "height": 70
        },
        "id": "bslPWwNLu1RF",
        "outputId": "c727a32c-5e27-451e-9307-dfaea1a79052"
      },
      "outputs": [
        {
          "data": {
            "text/html": [],
            "text/plain": [
              "<IPython.core.display.HTML object>"
            ]
          },
          "metadata": {
            "tags": []
          },
          "output_type": "display_data"
        },
        {
          "name": "stderr",
          "output_type": "stream",
          "text": [
            "/usr/local/lib/python3.6/dist-packages/numpy/core/_asarray.py:83: VisibleDeprecationWarning: Creating an ndarray from ragged nested sequences (which is a list-or-tuple of lists-or-tuples-or ndarrays with different lengths or shapes) is deprecated. If you meant to do this, you must specify 'dtype=object' when creating the ndarray\n",
            "  return array(a, dtype, copy=False, order=order)\n"
          ]
        }
      ],
      "source": [
        "# === Use this if you want to use IMDB_SAMPLE: But IMDB_SAMPLE is too small for a transformer ===\n",
        "# df = pd.read_csv(path/'texts.csv');df.head(2)\n",
        "# dls = TextDataLoaders.from_df(df, path=path, text_col='text', label_col='label', valid_col='is_valid')"
      ]
    },
    {
      "cell_type": "code",
      "execution_count": null,
      "metadata": {
        "id": "gqnqNSx7i3Cq"
      },
      "outputs": [],
      "source": [
        "# === Enable this to use much more data (better for transformer) === \n",
        "db = DataBlock(\n",
        "    blocks = (TextBlock.from_folder(path, max_vocab=10_000, seq_len=256), CategoryBlock),\n",
        "    get_items=get_text_files,\n",
        "    splitter=GrandparentSplitter(valid_name='test'),\n",
        "    get_y=parent_label\n",
        ")\n",
        "\n",
        "dls = db.dataloaders(path, path = path)"
      ]
    },
    {
      "cell_type": "code",
      "execution_count": null,
      "metadata": {
        "colab": {
          "base_uri": "https://localhost:8080/",
          "height": 174
        },
        "id": "lGpYxNREbJuc",
        "outputId": "64f23374-5fe5-49b0-98b2-a99d822cfb0c"
      },
      "outputs": [
        {
          "data": {
            "text/html": [
              "<table border=\"1\" class=\"dataframe\">\n",
              "  <thead>\n",
              "    <tr style=\"text-align: right;\">\n",
              "      <th></th>\n",
              "      <th>text</th>\n",
              "      <th>category</th>\n",
              "    </tr>\n",
              "  </thead>\n",
              "  <tbody>\n",
              "    <tr>\n",
              "      <th>0</th>\n",
              "      <td>xxbos xxmaj raising xxmaj victor xxmaj vargas : a xxmaj review \\n\\n xxmaj you know , xxmaj raising xxmaj victor xxmaj vargas is like sticking your hands into a big , xxunk bowl of xxunk . xxmaj it 's warm and gooey , but you 're not sure if it feels right . xxmaj try as i might , no matter how warm and gooey xxmaj raising xxmaj victor xxmaj vargas became i was always aware that something did n't quite feel right . xxmaj victor xxmaj vargas suffers from a certain xxunk on the director 's part . xxmaj apparently , the director thought that the ethnic backdrop of a xxmaj latino family on the lower east side , and an xxunk storyline would make the film critic proof . xxmaj he was right , but it did n't fool me . xxmaj raising xxmaj victor xxmaj vargas is</td>\n",
              "      <td>negative</td>\n",
              "    </tr>\n",
              "    <tr>\n",
              "      <th>1</th>\n",
              "      <td>xxbos xxup the xxup shop xxup around xxup the xxup corner is one of the xxunk and most feel - good romantic comedies ever made . xxmaj there 's just no getting around that , and it 's hard to actually put one 's feeling for this film into words . xxmaj it 's not one of those films that tries too hard , nor does it come up with the xxunk possible scenarios to get the two protagonists together in the end . xxmaj in fact , all its charm is xxunk , contained within the characters and the setting and the plot … which is highly believable to xxunk . xxmaj it 's easy to think that such a love story , as beautiful as any other ever told , * could * happen to you … a feeling you do n't often get from other romantic comedies</td>\n",
              "      <td>positive</td>\n",
              "    </tr>\n",
              "  </tbody>\n",
              "</table>"
            ],
            "text/plain": [
              "<IPython.core.display.HTML object>"
            ]
          },
          "metadata": {
            "tags": []
          },
          "output_type": "display_data"
        }
      ],
      "source": [
        "dls.show_batch(max_n=2)"
      ]
    },
    {
      "cell_type": "code",
      "execution_count": null,
      "metadata": {
        "colab": {
          "base_uri": "https://localhost:8080/"
        },
        "id": "O73KhsC9Bu4O",
        "outputId": "57ecd05a-1d88-4b08-9ca0-ee66ba28524f"
      },
      "outputs": [
        {
          "data": {
            "text/plain": [
              "(10008, device(type='cuda', index=0), (64, 3345))"
            ]
          },
          "execution_count": 18,
          "metadata": {
            "tags": []
          },
          "output_type": "execute_result"
        }
      ],
      "source": [
        "len(dls.vocab[0]),dls.device,dls.one_batch()[0].size()"
      ]
    },
    {
      "cell_type": "code",
      "execution_count": null,
      "metadata": {
        "id": "T0HMVCas8CYt"
      },
      "outputs": [],
      "source": [
        "# (self, k, heads, depth, seq_length, num_tokens, num_classes)\n",
        "learn = Learner(dls, Transformer(k=256, heads=8, depth=4, seq_length=256, num_tokens=len(dls.vocab[0]), num_classes=2, device=dls.device), metrics=[accuracy])"
      ]
    },
    {
      "cell_type": "code",
      "execution_count": null,
      "metadata": {
        "colab": {
          "base_uri": "https://localhost:8080/",
          "height": 300
        },
        "id": "0aWgxORntyV8",
        "outputId": "89ae5bc8-27a9-4b69-a879-a6aa64870781"
      },
      "outputs": [
        {
          "data": {
            "text/html": [],
            "text/plain": [
              "<IPython.core.display.HTML object>"
            ]
          },
          "metadata": {
            "tags": []
          },
          "output_type": "display_data"
        },
        {
          "data": {
            "text/plain": [
              "SuggestedLRs(lr_min=5.754399462603033e-05, lr_steep=0.6309573650360107)"
            ]
          },
          "execution_count": 20,
          "metadata": {
            "tags": []
          },
          "output_type": "execute_result"
        },
        {
          "data": {
            "image/png": "[encoded data removed]",
            "text/plain": [
              "<Figure size 432x288 with 1 Axes>"
            ]
          },
          "metadata": {
            "needs_background": "light",
            "tags": []
          },
          "output_type": "display_data"
        }
      ],
      "source": [
        "learn.lr_find()"
      ]
    },
    {
      "cell_type": "code",
      "execution_count": null,
      "metadata": {
        "colab": {
          "base_uri": "https://localhost:8080/",
          "height": 225
        },
        "id": "wIT5eh66eOnF",
        "outputId": "1b8322ee-08d7-4fcc-9cfd-cee2c0fc34bb"
      },
      "outputs": [
        {
          "data": {
            "text/html": [
              "<table border=\"1\" class=\"dataframe\">\n",
              "  <thead>\n",
              "    <tr style=\"text-align: left;\">\n",
              "      <th>epoch</th>\n",
              "      <th>train_loss</th>\n",
              "      <th>valid_loss</th>\n",
              "      <th>accuracy</th>\n",
              "      <th>time</th>\n",
              "    </tr>\n",
              "  </thead>\n",
              "  <tbody>\n",
              "    <tr>\n",
              "      <td>0</td>\n",
              "      <td>0.652948</td>\n",
              "      <td>0.627165</td>\n",
              "      <td>0.656120</td>\n",
              "      <td>04:00</td>\n",
              "    </tr>\n",
              "    <tr>\n",
              "      <td>1</td>\n",
              "      <td>0.580878</td>\n",
              "      <td>0.548993</td>\n",
              "      <td>0.722400</td>\n",
              "      <td>04:08</td>\n",
              "    </tr>\n",
              "    <tr>\n",
              "      <td>2</td>\n",
              "      <td>0.481650</td>\n",
              "      <td>0.492818</td>\n",
              "      <td>0.760320</td>\n",
              "      <td>04:09</td>\n",
              "    </tr>\n",
              "    <tr>\n",
              "      <td>3</td>\n",
              "      <td>0.458933</td>\n",
              "      <td>0.472389</td>\n",
              "      <td>0.770200</td>\n",
              "      <td>04:09</td>\n",
              "    </tr>\n",
              "    <tr>\n",
              "      <td>4</td>\n",
              "      <td>0.432385</td>\n",
              "      <td>0.461327</td>\n",
              "      <td>0.778800</td>\n",
              "      <td>04:10</td>\n",
              "    </tr>\n",
              "    <tr>\n",
              "      <td>5</td>\n",
              "      <td>0.409607</td>\n",
              "      <td>0.460612</td>\n",
              "      <td>0.780320</td>\n",
              "      <td>04:08</td>\n",
              "    </tr>\n",
              "  </tbody>\n",
              "</table>"
            ],
            "text/plain": [
              "<IPython.core.display.HTML object>"
            ]
          },
          "metadata": {
            "tags": []
          },
          "output_type": "display_data"
        }
      ],
      "source": [
        "learn.fit_one_cycle(6, 5.7e-5) # We can increase depth & more to improve the result"
      ]
    },
    {
      "cell_type": "markdown",
      "metadata": {
        "id": "sGJiP6DTkEvH"
      },
      "source": [
        "Fast.AI approach"
      ]
    },
    {
      "cell_type": "code",
      "execution_count": null,
      "metadata": {
        "colab": {
          "base_uri": "https://localhost:8080/",
          "height": 226
        },
        "id": "h0xsPty2j-gw",
        "outputId": "b48420dd-edcd-4bfa-e95e-996089e29266"
      },
      "outputs": [
        {
          "data": {
            "text/html": [],
            "text/plain": [
              "<IPython.core.display.HTML object>"
            ]
          },
          "metadata": {
            "tags": []
          },
          "output_type": "display_data"
        },
        {
          "data": {
            "text/html": [
              "<table border=\"1\" class=\"dataframe\">\n",
              "  <thead>\n",
              "    <tr style=\"text-align: left;\">\n",
              "      <th>epoch</th>\n",
              "      <th>train_loss</th>\n",
              "      <th>valid_loss</th>\n",
              "      <th>accuracy</th>\n",
              "      <th>time</th>\n",
              "    </tr>\n",
              "  </thead>\n",
              "  <tbody>\n",
              "    <tr>\n",
              "      <td>0</td>\n",
              "      <td>0.624490</td>\n",
              "      <td>0.643156</td>\n",
              "      <td>0.625000</td>\n",
              "      <td>00:12</td>\n",
              "    </tr>\n",
              "  </tbody>\n",
              "</table>"
            ],
            "text/plain": [
              "<IPython.core.display.HTML object>"
            ]
          },
          "metadata": {
            "tags": []
          },
          "output_type": "display_data"
        },
        {
          "data": {
            "text/html": [
              "<table border=\"1\" class=\"dataframe\">\n",
              "  <thead>\n",
              "    <tr style=\"text-align: left;\">\n",
              "      <th>epoch</th>\n",
              "      <th>train_loss</th>\n",
              "      <th>valid_loss</th>\n",
              "      <th>accuracy</th>\n",
              "      <th>time</th>\n",
              "    </tr>\n",
              "  </thead>\n",
              "  <tbody>\n",
              "    <tr>\n",
              "      <td>0</td>\n",
              "      <td>0.441161</td>\n",
              "      <td>0.550412</td>\n",
              "      <td>0.755000</td>\n",
              "      <td>00:27</td>\n",
              "    </tr>\n",
              "    <tr>\n",
              "      <td>1</td>\n",
              "      <td>0.380404</td>\n",
              "      <td>0.602693</td>\n",
              "      <td>0.650000</td>\n",
              "      <td>00:27</td>\n",
              "    </tr>\n",
              "    <tr>\n",
              "      <td>2</td>\n",
              "      <td>0.316619</td>\n",
              "      <td>0.483822</td>\n",
              "      <td>0.750000</td>\n",
              "      <td>00:27</td>\n",
              "    </tr>\n",
              "    <tr>\n",
              "      <td>3</td>\n",
              "      <td>0.256229</td>\n",
              "      <td>0.535840</td>\n",
              "      <td>0.750000</td>\n",
              "      <td>00:27</td>\n",
              "    </tr>\n",
              "  </tbody>\n",
              "</table>"
            ],
            "text/plain": [
              "<IPython.core.display.HTML object>"
            ]
          },
          "metadata": {
            "tags": []
          },
          "output_type": "display_data"
        }
      ],
      "source": [
        "learn = text_classifier_learner(dls, AWD_LSTM, drop_mult=0.5, metrics=accuracy)\n",
        "learn.fine_tune(4, 1e-2)"
      ]
    },
    {
      "cell_type": "code",
      "execution_count": null,
      "metadata": {
        "id": "D7118tg2kD2J"
      },
      "outputs": [],
      "source": [
        "learn.show_results()  "
      ]
    },
    {
      "cell_type": "markdown",
      "metadata": {
        "id": "ntiaaNLqpJ66"
      },
      "source": [
        "## Text Generation\n",
        "\n",
        "First of we generate text based on the IMDB dataset, but then we've also got the shakespeare txt file afterwards for personal testing :)"
      ]
    },
    {
      "cell_type": "markdown",
      "metadata": {
        "id": "R8F2jhp3mpUi"
      },
      "source": [
        "### The Model\n",
        "\n",
        "Code we've done, the essential model"
      ]
    },
    {
      "cell_type": "code",
      "execution_count": null,
      "metadata": {
        "id": "KxHrs2ySpMP0"
      },
      "outputs": [],
      "source": [
        "class SelfAttentionAutoRegressive(Module):\n",
        "  def __init__(self, k, heads=8):\n",
        "    self.k, self.heads = k, heads\n",
        "\n",
        "    # These compute the queries, keys and values for all \n",
        "    # heads (as a single concatenated vector)\n",
        "    self.tokeys    = nn.Linear(k, k * heads, bias=False)\n",
        "    self.toqueries = nn.Linear(k, k * heads, bias=False)\n",
        "    self.tovalues  = nn.Linear(k, k * heads, bias=False)\n",
        "\n",
        "\t  # This unifies the outputs of the different heads into \n",
        "    # a single k-vector\n",
        "    self.unifyheads = nn.Linear(heads * k, k)\n",
        "\n",
        "  def forward(self, x):\n",
        "    b, t, k = x.size()\n",
        "\n",
        "    h = self.heads\n",
        "\n",
        "    queries = self.toqueries(x).view(b, t, h, k)\n",
        "    keys    = self.tokeys(x)   .view(b, t, h, k)\n",
        "    values  = self.tovalues(x) .view(b, t, h, k)\n",
        "\n",
        "    # - fold heads into the batch dimension ... contiguous = reshapes matrix in memory\n",
        "    keys = keys.transpose(1, 2).contiguous().view(b * h, t, k)\n",
        "    queries = queries.transpose(1, 2).contiguous().view(b * h, t, k)\n",
        "    values = values.transpose(1, 2).contiguous().view(b * h, t, k)\n",
        "\n",
        "    queries = queries / (k ** (1/4))\n",
        "    keys    = keys / (k ** (1/4))\n",
        "\n",
        "    # - get dot product of queries and keys, and scale\n",
        "    dot = torch.bmm(queries, keys.transpose(1, 2))\n",
        "\n",
        "    indices = torch.triu_indices(t, t, offset=1, device='cuda') # ---OBS--- this also changed\n",
        "    dot[:, indices[0], indices[1]] = float('-inf')\n",
        "\n",
        "    # - dot has size (b*h, t, t) containing raw weights\n",
        "\n",
        "    dot = F.softmax(dot, dim=2) \n",
        "    # - dot now contains row-wise normalized weights\n",
        "\n",
        "    # apply the self attention to the values\n",
        "    out = torch.bmm(dot, values).view(b, h, t, k)\n",
        "\n",
        "    # swap h, t back, unify heads\n",
        "    out = out.transpose(1, 2).contiguous().view(b, t, h * k)\n",
        "    return self.unifyheads(out)"
      ]
    },
    {
      "cell_type": "code",
      "execution_count": null,
      "metadata": {
        "id": "r9G9j6p5rsNq"
      },
      "outputs": [],
      "source": [
        "class TransformerBlock(Module):\n",
        "  def __init__(self, k, heads):\n",
        "    super().__init__()\n",
        "\n",
        "    self.attention = SelfAttentionAutoRegressive(k, heads=heads)\n",
        "\n",
        "    self.norm1 = nn.LayerNorm(k)\n",
        "    self.norm2 = nn.LayerNorm(k)\n",
        "\n",
        "    self.ff = nn.Sequential(\n",
        "      nn.Linear(k, 4 * k),\n",
        "      nn.ReLU(),\n",
        "      nn.Linear(4 * k, k)\n",
        "    )\n",
        "\n",
        "  def forward(self, x):\n",
        "    attended = self.attention(x)\n",
        "    x = self.norm1(attended + x)\n",
        "    \n",
        "    fedforward = self.ff(x)\n",
        "    return self.norm2(fedforward + x)"
      ]
    },
    {
      "cell_type": "code",
      "execution_count": null,
      "metadata": {
        "id": "Vxee0P9DsFuw"
      },
      "outputs": [],
      "source": [
        "class Transformer(Module):\n",
        "    def __init__(self, k, heads, depth, seq_length, num_tokens, device):\n",
        "        super().__init__()\n",
        "\n",
        "        self.device = device\n",
        "        self.seq_length = seq_length\n",
        "        self.num_tokens = num_tokens\n",
        "        self.token_emb = nn.Embedding(num_tokens, k)\n",
        "        self.pos_emb = nn.Embedding(seq_length, k)\n",
        "\n",
        "\t\t    # The sequence of transformer blocks that does all the \n",
        "        # heavy lifting\n",
        "        tblocks = [TransformerBlock(k=k, heads=heads) for x in range(depth)]\n",
        "        self.tblocks = nn.Sequential(*tblocks)\n",
        "\n",
        "\t\t    # Maps the final output sequence to class logits\n",
        "        self.toprobs = nn.Linear(k, num_tokens)\n",
        "\n",
        "    def forward(self, x):\n",
        "        \"\"\"\n",
        "        :param x: A (b, t) tensor of integer values representing \n",
        "                  words (in some predetermined vocabulary).\n",
        "        :return: A (b, c) tensor of log-probabilities over the \n",
        "                 classes (where c is the nr. of classes).\n",
        "        \"\"\"\n",
        "\t\t    \n",
        "        # generate token embeddings\n",
        "        # print(x.size())\n",
        "        \n",
        "        tokens = self.token_emb(x)\n",
        "        b, t, k = tokens.size()\n",
        "        # print(b, t, k)\n",
        "\n",
        "        # generate position embeddings\n",
        "        positions = torch.arange(t, device=self.device)\n",
        "        positions = self.pos_emb(positions)[None, :, :].expand(b, t, k)\n",
        "        \n",
        "        x = tokens + positions\n",
        "        x = self.tblocks(x)\n",
        "        \n",
        "        # Average-pool over the t dimension and project to class \n",
        "        # probabilities\n",
        "        x = self.toprobs(x.view(b*t, k)).view(b, t, self.num_tokens)\n",
        "        # print(x.size())\n",
        "        return F.log_softmax(x, dim=2)"
      ]
    },
    {
      "cell_type": "markdown",
      "metadata": {
        "id": "_B3ACvIHm1cy"
      },
      "source": [
        "### The Text Generation\n",
        "- Data Collection\n",
        "- Training Loop\n",
        "- Validation"
      ]
    },
    {
      "cell_type": "code",
      "execution_count": null,
      "metadata": {
        "colab": {
          "base_uri": "https://localhost:8080/"
        },
        "id": "cj2E7O0lsMpC",
        "outputId": "e25f20d8-caa1-4948-da8d-8e5f5f9de5cd"
      },
      "outputs": [
        {
          "data": {
            "text/plain": [
              "(#2) [Path('/root/.fastai/data/imdb_sample/texts.csv'),Path('/root/.fastai/data/imdb_sample/models')]"
            ]
          },
          "execution_count": 20,
          "metadata": {
            "tags": []
          },
          "output_type": "execute_result"
        }
      ],
      "source": [
        "path = untar_data(URLs.IMDB_SAMPLE)\n",
        "path.ls()"
      ]
    },
    {
      "cell_type": "code",
      "execution_count": null,
      "metadata": {
        "id": "QnxOZdvWtpzs"
      },
      "outputs": [],
      "source": [
        "df = pd.read_csv(path/'texts.csv')"
      ]
    },
    {
      "cell_type": "code",
      "execution_count": null,
      "metadata": {
        "colab": {
          "base_uri": "https://localhost:8080/",
          "height": 94
        },
        "id": "J1ts4Cv_ts83",
        "outputId": "d6c53250-dae8-4f5f-88fc-9d2a91cc881e"
      },
      "outputs": [
        {
          "data": {
            "text/html": [
              "<div>\n",
              "<style scoped>\n",
              "    .dataframe tbody tr th:only-of-type {\n",
              "        vertical-align: middle;\n",
              "    }\n",
              "\n",
              "    .dataframe tbody tr th {\n",
              "        vertical-align: top;\n",
              "    }\n",
              "\n",
              "    .dataframe thead th {\n",
              "        text-align: right;\n",
              "    }\n",
              "</style>\n",
              "<table border=\"1\" class=\"dataframe\">\n",
              "  <thead>\n",
              "    <tr style=\"text-align: right;\">\n",
              "      <th></th>\n",
              "      <th>label</th>\n",
              "      <th>text</th>\n",
              "      <th>is_valid</th>\n",
              "    </tr>\n",
              "  </thead>\n",
              "  <tbody>\n",
              "    <tr>\n",
              "      <th>0</th>\n",
              "      <td>negative</td>\n",
              "      <td>Un-bleeping-believable! Meg Ryan doesn't even look her usual pert lovable self in this, which normally makes me forgive her shallow ticky acting schtick. Hard to believe she was the producer on this dog. Plus Kevin Kline: what kind of suicide trip has his career been on? Whoosh... Banzai!!! Finally this was directed by the guy who did Big Chill? Must be a replay of Jonestown - hollywood style. Wooofff!</td>\n",
              "      <td>False</td>\n",
              "    </tr>\n",
              "  </tbody>\n",
              "</table>\n",
              "</div>"
            ],
            "text/plain": [
              "      label  ... is_valid\n",
              "0  negative  ...    False\n",
              "\n",
              "[1 rows x 3 columns]"
            ]
          },
          "execution_count": 22,
          "metadata": {
            "tags": []
          },
          "output_type": "execute_result"
        }
      ],
      "source": [
        "df.head(1)"
      ]
    },
    {
      "cell_type": "code",
      "execution_count": null,
      "metadata": {
        "colab": {
          "base_uri": "https://localhost:8080/",
          "height": 70
        },
        "id": "cAYQohZpttoU",
        "outputId": "e5b3156e-86bb-4f4f-8475-98b32d12a49c"
      },
      "outputs": [
        {
          "data": {
            "text/html": [],
            "text/plain": [
              "<IPython.core.display.HTML object>"
            ]
          },
          "metadata": {
            "tags": []
          },
          "output_type": "display_data"
        },
        {
          "name": "stderr",
          "output_type": "stream",
          "text": [
            "/usr/local/lib/python3.6/dist-packages/numpy/core/_asarray.py:83: VisibleDeprecationWarning: Creating an ndarray from ragged nested sequences (which is a list-or-tuple of lists-or-tuples-or ndarrays with different lengths or shapes) is deprecated. If you meant to do this, you must specify 'dtype=object' when creating the ndarray\n",
            "  return array(a, dtype, copy=False, order=order)\n"
          ]
        }
      ],
      "source": [
        "dls = TextDataLoaders.from_df(df, path=path, text_col='text', is_lm=True, valid_col='is_valid', seq_len=256)"
      ]
    },
    {
      "cell_type": "code",
      "execution_count": null,
      "metadata": {
        "colab": {
          "base_uri": "https://localhost:8080/",
          "height": 144
        },
        "id": "lUuMzIfUugTp",
        "outputId": "d2f8842e-64f7-405c-f689-9ffe8ad2f713"
      },
      "outputs": [
        {
          "data": {
            "text/html": [
              "<table border=\"1\" class=\"dataframe\">\n",
              "  <thead>\n",
              "    <tr style=\"text-align: right;\">\n",
              "      <th></th>\n",
              "      <th>text</th>\n",
              "      <th>text_</th>\n",
              "    </tr>\n",
              "  </thead>\n",
              "  <tbody>\n",
              "    <tr>\n",
              "      <th>0</th>\n",
              "      <td>xxbos i enjoyed this movie . xxmaj unlike like some of the xxunk up , xxunk trash that is passed off as action movies , xxmaj playing xxmaj god is simple and realistic , with characters that are believable , action that is not over the top and enough twists and turns to keep you interested until the end . \\n\\n xxmaj well directed , well acted and a good story . xxbos xxmaj for those fans of xxmaj laurel and xxmaj hardy , the 1940s and beyond were a very sad time for the team . xxmaj their xxunk with xxmaj xxunk xxmaj xxunk xxmaj studios had xxunk and now they were \" free xxunk to work for any studio who xxunk them a job . xxmaj unfortunately , xxmaj fox , xxup xxunk , xxup xxunk ( without xxmaj xxunk ) and even a xxmaj french film company</td>\n",
              "      <td>i enjoyed this movie . xxmaj unlike like some of the xxunk up , xxunk trash that is passed off as action movies , xxmaj playing xxmaj god is simple and realistic , with characters that are believable , action that is not over the top and enough twists and turns to keep you interested until the end . \\n\\n xxmaj well directed , well acted and a good story . xxbos xxmaj for those fans of xxmaj laurel and xxmaj hardy , the 1940s and beyond were a very sad time for the team . xxmaj their xxunk with xxmaj xxunk xxmaj xxunk xxmaj studios had xxunk and now they were \" free xxunk to work for any studio who xxunk them a job . xxmaj unfortunately , xxmaj fox , xxup xxunk , xxup xxunk ( without xxmaj xxunk ) and even a xxmaj french film company who</td>\n",
              "    </tr>\n",
              "  </tbody>\n",
              "</table>"
            ],
            "text/plain": [
              "<IPython.core.display.HTML object>"
            ]
          },
          "metadata": {
            "tags": []
          },
          "output_type": "display_data"
        }
      ],
      "source": [
        "dls.show_batch(max_n=1)"
      ]
    },
    {
      "cell_type": "code",
      "execution_count": null,
      "metadata": {
        "colab": {
          "base_uri": "https://localhost:8080/"
        },
        "id": "iGxvtzv31sBz",
        "outputId": "29e0f3e4-c092-4136-de05-83a05307bff5"
      },
      "outputs": [
        {
          "data": {
            "text/plain": [
              "(7080, (64, 256))"
            ]
          },
          "execution_count": 27,
          "metadata": {
            "tags": []
          },
          "output_type": "execute_result"
        }
      ],
      "source": [
        "len(dls.vocab),dls.one_batch()[0].size()"
      ]
    },
    {
      "cell_type": "code",
      "execution_count": null,
      "metadata": {
        "id": "wWkFh4kJuk8P"
      },
      "outputs": [],
      "source": [
        "learn = Learner(dls, Transformer(k=256, heads=8, depth=3, seq_length=256, num_tokens=len(dls.vocab), device=dls.device), loss_func=CrossEntropyLossFlat())"
      ]
    },
    {
      "cell_type": "code",
      "execution_count": null,
      "metadata": {
        "colab": {
          "base_uri": "https://localhost:8080/",
          "height": 300
        },
        "id": "pw7pvqcN9QcS",
        "outputId": "8028a840-2057-4d98-8551-20935a565c95"
      },
      "outputs": [
        {
          "data": {
            "text/html": [],
            "text/plain": [
              "<IPython.core.display.HTML object>"
            ]
          },
          "metadata": {
            "tags": []
          },
          "output_type": "display_data"
        },
        {
          "data": {
            "text/plain": [
              "SuggestedLRs(lr_min=0.02089296132326126, lr_steep=0.0014454397605732083)"
            ]
          },
          "execution_count": 56,
          "metadata": {
            "tags": []
          },
          "output_type": "execute_result"
        },
        {
          "data": {
            "image/png": "[encoded data removed]",
            "text/plain": [
              "<Figure size 432x288 with 1 Axes>"
            ]
          },
          "metadata": {
            "needs_background": "light",
            "tags": []
          },
          "output_type": "display_data"
        }
      ],
      "source": [
        "learn.freeze()\n",
        "learn.lr_find()"
      ]
    },
    {
      "cell_type": "code",
      "execution_count": null,
      "metadata": {
        "id": "tUaA3uZOZLU1"
      },
      "outputs": [],
      "source": [
        "learn.unfreeze()"
      ]
    },
    {
      "cell_type": "code",
      "execution_count": null,
      "metadata": {
        "colab": {
          "base_uri": "https://localhost:8080/",
          "height": 463
        },
        "id": "dGFi69UvwHXA",
        "outputId": "6d76f339-45e7-4ab0-c728-5f5638446c7a"
      },
      "outputs": [
        {
          "data": {
            "text/html": [
              "<table border=\"1\" class=\"dataframe\">\n",
              "  <thead>\n",
              "    <tr style=\"text-align: left;\">\n",
              "      <th>epoch</th>\n",
              "      <th>train_loss</th>\n",
              "      <th>valid_loss</th>\n",
              "      <th>time</th>\n",
              "    </tr>\n",
              "  </thead>\n",
              "  <tbody>\n",
              "    <tr>\n",
              "      <td>0</td>\n",
              "      <td>5.952718</td>\n",
              "      <td>6.005916</td>\n",
              "      <td>00:09</td>\n",
              "    </tr>\n",
              "    <tr>\n",
              "      <td>1</td>\n",
              "      <td>5.943147</td>\n",
              "      <td>5.950939</td>\n",
              "      <td>00:09</td>\n",
              "    </tr>\n",
              "    <tr>\n",
              "      <td>2</td>\n",
              "      <td>5.907956</td>\n",
              "      <td>5.901570</td>\n",
              "      <td>00:09</td>\n",
              "    </tr>\n",
              "    <tr>\n",
              "      <td>3</td>\n",
              "      <td>5.869049</td>\n",
              "      <td>5.870370</td>\n",
              "      <td>00:09</td>\n",
              "    </tr>\n",
              "  </tbody>\n",
              "</table>"
            ],
            "text/plain": [
              "<IPython.core.display.HTML object>"
            ]
          },
          "metadata": {
            "tags": []
          },
          "output_type": "display_data"
        },
        {
          "data": {
            "text/html": [
              "<table border=\"1\" class=\"dataframe\">\n",
              "  <thead>\n",
              "    <tr style=\"text-align: left;\">\n",
              "      <th>epoch</th>\n",
              "      <th>train_loss</th>\n",
              "      <th>valid_loss</th>\n",
              "      <th>time</th>\n",
              "    </tr>\n",
              "  </thead>\n",
              "  <tbody>\n",
              "    <tr>\n",
              "      <td>0</td>\n",
              "      <td>5.782402</td>\n",
              "      <td>5.828668</td>\n",
              "      <td>00:09</td>\n",
              "    </tr>\n",
              "    <tr>\n",
              "      <td>1</td>\n",
              "      <td>5.687460</td>\n",
              "      <td>5.575956</td>\n",
              "      <td>00:09</td>\n",
              "    </tr>\n",
              "    <tr>\n",
              "      <td>2</td>\n",
              "      <td>5.571561</td>\n",
              "      <td>5.469945</td>\n",
              "      <td>00:09</td>\n",
              "    </tr>\n",
              "    <tr>\n",
              "      <td>3</td>\n",
              "      <td>5.484975</td>\n",
              "      <td>5.450408</td>\n",
              "      <td>00:09</td>\n",
              "    </tr>\n",
              "  </tbody>\n",
              "</table>"
            ],
            "text/plain": [
              "<IPython.core.display.HTML object>"
            ]
          },
          "metadata": {
            "tags": []
          },
          "output_type": "display_data"
        },
        {
          "data": {
            "text/html": [
              "<table border=\"1\" class=\"dataframe\">\n",
              "  <thead>\n",
              "    <tr style=\"text-align: left;\">\n",
              "      <th>epoch</th>\n",
              "      <th>train_loss</th>\n",
              "      <th>valid_loss</th>\n",
              "      <th>time</th>\n",
              "    </tr>\n",
              "  </thead>\n",
              "  <tbody>\n",
              "    <tr>\n",
              "      <td>0</td>\n",
              "      <td>5.322245</td>\n",
              "      <td>5.439701</td>\n",
              "      <td>00:09</td>\n",
              "    </tr>\n",
              "    <tr>\n",
              "      <td>1</td>\n",
              "      <td>5.280037</td>\n",
              "      <td>5.311460</td>\n",
              "      <td>00:09</td>\n",
              "    </tr>\n",
              "    <tr>\n",
              "      <td>2</td>\n",
              "      <td>5.215474</td>\n",
              "      <td>5.259928</td>\n",
              "      <td>00:09</td>\n",
              "    </tr>\n",
              "    <tr>\n",
              "      <td>3</td>\n",
              "      <td>5.167902</td>\n",
              "      <td>5.247015</td>\n",
              "      <td>00:09</td>\n",
              "    </tr>\n",
              "  </tbody>\n",
              "</table>"
            ],
            "text/plain": [
              "<IPython.core.display.HTML object>"
            ]
          },
          "metadata": {
            "tags": []
          },
          "output_type": "display_data"
        }
      ],
      "source": [
        "learn.fit_one_cycle(4)  # Add suggested LR if you'd like\n",
        "learn.fit_one_cycle(4)\n",
        "learn.fit_one_cycle(4)"
      ]
    },
    {
      "cell_type": "code",
      "execution_count": null,
      "metadata": {
        "id": "92o4QvxvW1vq"
      },
      "outputs": [],
      "source": [
        "def predict(self, text, n_words=1, no_unk=True, temperature=1., min_p=None, no_bar=False,\n",
        "            decoder=decode_spec_tokens, only_last_word=False):\n",
        "    \"Return `text` and the `n_words` that come after\"\n",
        "    \n",
        "    idxs = idxs_all = self.dls.test_dl([text]).items[0].to(self.dls.device)\n",
        "    if no_unk: unk_idx = self.dls.vocab.index(UNK)\n",
        "    for _ in (range(n_words) if no_bar else progress_bar(range(n_words), leave=False)):\n",
        "        with self.no_bar(): preds,_ = self.get_preds(dl=[(idxs[None],)])\n",
        "        # print(preds.size())\n",
        "        res = preds[0][-1]\n",
        "        if no_unk: res[unk_idx] = 0.\n",
        "        if min_p is not None:\n",
        "            if (res >= min_p).float().sum() == 0:\n",
        "                warn(f\"There is no item with probability >= {min_p}, try a lower value.\")\n",
        "            else: res[res < min_p] = 0.\n",
        "        if temperature != 1.: res.pow_(1 / temperature)\n",
        "        idx = torch.multinomial(res, 1).item()\n",
        "        idxs = idxs_all = torch.cat([idxs_all, idxs.new([idx])])\n",
        "        if only_last_word: idxs = idxs[-1][None]\n",
        "\n",
        "    num = self.dls.train_ds.numericalize\n",
        "    tokens = [num.vocab[i] for i in idxs_all if num.vocab[i] not in [BOS, PAD]]\n",
        "    sep = self.dls.train_ds.tokenizer.sep\n",
        "    return sep.join(decoder(tokens))\n",
        "\n",
        "@delegates(Learner.get_preds)\n",
        "def get_preds(self, concat_dim=1, **kwargs):\n",
        "  return super().get_preds(concat_dim=concat_dim, **kwargs)"
      ]
    },
    {
      "cell_type": "code",
      "execution_count": null,
      "metadata": {
        "colab": {
          "base_uri": "https://localhost:8080/",
          "height": 35
        },
        "id": "BOyJQzCMyvgh",
        "outputId": "99593356-56a4-47d5-bb8d-e35f5b5a227c"
      },
      "outputs": [
        {
          "data": {
            "text/html": [],
            "text/plain": [
              "<IPython.core.display.HTML object>"
            ]
          },
          "metadata": {
            "tags": []
          },
          "output_type": "display_data"
        },
        {
          "data": {
            "application/vnd.google.colaboratory.intrinsic+json": {
              "type": "string"
            },
            "text/plain": [
              "'i think its a very Who spoiler to sort with a flat in clumsy and my world to sit to american to were even'"
            ]
          },
          "execution_count": 68,
          "metadata": {
            "tags": []
          },
          "output_type": "execute_result"
        }
      ],
      "source": [
        "predict(learn, \"I think its a very\", n_words=20, temperature=1.)"
      ]
    },
    {
      "cell_type": "code",
      "execution_count": null,
      "metadata": {
        "id": "Mc56jnvkS8ll"
      },
      "outputs": [],
      "source": [
        "learn.save('gen.pkl')"
      ]
    },
    {
      "cell_type": "code",
      "execution_count": null,
      "metadata": {
        "id": "Xx-TKReD5DoK"
      },
      "outputs": [],
      "source": [
        "# Shakespeare for those that'd want it!\n",
        "!wget https://cs.stanford.edu/people/karpathy/char-rnn/shakespear.txt"
      ]
    },
    {
      "cell_type": "markdown",
      "metadata": {
        "id": "cyUxdeNUSUTB"
      },
      "source": [
        "FastAI way"
      ]
    },
    {
      "cell_type": "code",
      "execution_count": null,
      "metadata": {
        "id": "aA-5wQehSZJ4"
      },
      "outputs": [],
      "source": [
        "predict(language_model_learner(dls, AWD_LSTM), \"I think its\", n_words=2, temperature=1.)"
      ]
    }
  ],
  "metadata": {
    "accelerator": "GPU",
    "colab": {
      "collapsed_sections": [
        "pllwiGebTCsq",
        "UfOom5uWDGoy",
        "AsSSgssxgZNk",
        "IQGuOPCrkBjG",
        "ntiaaNLqpJ66",
        "R8F2jhp3mpUi"
      ],
      "name": "2021-02-18-transformers-explained.ipynb",
      "provenance": []
    },
    "kernelspec": {
      "display_name": "Python 3.10.4 64-bit",
      "language": "python",
      "name": "python3"
    },
    "language_info": {
      "codemirror_mode": {
        "name": "ipython",
        "version": 3
      },
      "file_extension": ".py",
      "mimetype": "text/x-python",
      "name": "python",
      "nbconvert_exporter": "python",
      "pygments_lexer": "ipython3",
      "version": "3.10.4"
    },
    "vscode": {
      "interpreter": {
        "hash": "3ad933181bd8a04b432d3370b9dc3b0662ad032c4dfaa4e4f1596c548f763858"
      }
    }
  },
  "nbformat": 4,
  "nbformat_minor": 0
}